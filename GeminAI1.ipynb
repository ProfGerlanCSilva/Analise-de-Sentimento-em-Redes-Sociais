{
  "cells": [
    {
      "cell_type": "markdown",
      "metadata": {
        "id": "view-in-github",
        "colab_type": "text"
      },
      "source": [
        "<a href=\"https://colab.research.google.com/github/ProfGerlanCSilva/Analise-de-Sentimento-em-Redes-Sociais/blob/main/GeminAI1.ipynb\" target=\"_parent\"><img src=\"https://colab.research.google.com/assets/colab-badge.svg\" alt=\"Open In Colab\"/></a>"
      ]
    },
    {
      "cell_type": "markdown",
      "metadata": {
        "id": "084u8u0DpBlo"
      },
      "source": [
        "# Solicitando uma transcrição de **DOCUMENTOS**"
      ]
    },
    {
      "cell_type": "code",
      "execution_count": 5,
      "metadata": {
        "id": "qLuL9m7KhvxR",
        "colab": {
          "base_uri": "https://localhost:8080/"
        },
        "outputId": "6b62510d-4f6a-4a7a-eced-fb279bda8264"
      },
      "outputs": [
        {
          "output_type": "stream",
          "name": "stdout",
          "text": [
            "\u001b[?25l     \u001b[90m━━━━━━━━━━━━━━━━━━━━━━━━━━━━━━━━━━━━━━━━\u001b[0m \u001b[32m0.0/158.8 kB\u001b[0m \u001b[31m?\u001b[0m eta \u001b[36m-:--:--\u001b[0m\r\u001b[2K     \u001b[91m━━━━━━━━━━━━━━━━━━━━━━━━━━━━━━━━━\u001b[0m\u001b[91m╸\u001b[0m\u001b[90m━━━━━━\u001b[0m \u001b[32m133.1/158.8 kB\u001b[0m \u001b[31m3.8 MB/s\u001b[0m eta \u001b[36m0:00:01\u001b[0m\r\u001b[2K     \u001b[90m━━━━━━━━━━━━━━━━━━━━━━━━━━━━━━━━━━━━━━━━\u001b[0m \u001b[32m158.8/158.8 kB\u001b[0m \u001b[31m3.4 MB/s\u001b[0m eta \u001b[36m0:00:00\u001b[0m\n",
            "\u001b[?25h"
          ]
        }
      ],
      "source": [
        "!pip install -U -q google-generativeai"
      ]
    },
    {
      "cell_type": "code",
      "execution_count": 6,
      "metadata": {
        "id": "ATIbQM0NHhkj"
      },
      "outputs": [],
      "source": [
        "import google.generativeai as genai"
      ]
    },
    {
      "cell_type": "markdown",
      "metadata": {
        "id": "l8g4hTRotheH"
      },
      "source": [
        "### Configure sua chave API\n",
        "\n",
        "Para executar a célula a seguir, sua chave de API deve ser armazenada em um segredo do Colab chamado `GOOGLE_API_KEY`."
      ]
    },
    {
      "cell_type": "code",
      "execution_count": 7,
      "metadata": {
        "id": "d6lYXRcjthKV"
      },
      "outputs": [],
      "source": [
        "from google.colab import userdata\n",
        "GOOGLE_API_KEY=userdata.get('APIGEMINI')\n",
        "genai.configure(api_key=GOOGLE_API_KEY)"
      ]
    },
    {
      "cell_type": "markdown",
      "metadata": {
        "id": "MNvhBdoDFnTC"
      },
      "source": [
        "Baixe a transcrição."
      ]
    },
    {
      "cell_type": "code",
      "execution_count": 8,
      "metadata": {
        "id": "V4XeFdX1rxaE",
        "outputId": "5fb91091-0adb-4fc6-eb67-1c25225bb343",
        "colab": {
          "base_uri": "https://localhost:8080/"
        }
      },
      "outputs": [
        {
          "output_type": "stream",
          "name": "stdout",
          "text": [
            "--2024-06-16 21:10:52--  https://storage.googleapis.com/generativeai-downloads/data/a11.txt\n",
            "Resolving storage.googleapis.com (storage.googleapis.com)... 173.194.210.207, 173.194.212.207, 173.194.215.207, ...\n",
            "Connecting to storage.googleapis.com (storage.googleapis.com)|173.194.210.207|:443... connected.\n",
            "HTTP request sent, awaiting response... 200 OK\n",
            "Length: 847790 (828K) [text/plain]\n",
            "Saving to: ‘a11.txt.1’\n",
            "\n",
            "\ra11.txt.1             0%[                    ]       0  --.-KB/s               \ra11.txt.1           100%[===================>] 827.92K  --.-KB/s    in 0.007s  \n",
            "\n",
            "2024-06-16 21:10:52 (122 MB/s) - ‘a11.txt.1’ saved [847790/847790]\n",
            "\n"
          ]
        }
      ],
      "source": [
        "!wget https://storage.googleapis.com/generativeai-downloads/data/a11.txt"
      ]
    },
    {
      "cell_type": "markdown",
      "metadata": {
        "id": "ZoiKgO2CswzA"
      },
      "source": [
        "Preparando para uso Prompt."
      ]
    },
    {
      "cell_type": "code",
      "execution_count": 9,
      "metadata": {
        "id": "_HzrDdp2Q1Cu",
        "outputId": "daf4909e-3d6f-47d4-8c52-640bd906a329",
        "colab": {
          "base_uri": "https://localhost:8080/",
          "height": 52
        }
      },
      "outputs": [
        {
          "output_type": "stream",
          "name": "stdout",
          "text": [
            "Uploading file...\n",
            "Completed upload: https://generativelanguage.googleapis.com/v1beta/files/y5fehqdn6vkq\n"
          ]
        }
      ],
      "source": [
        "text_file_name = \"a11.txt\"\n",
        "print(f\"Uploading file...\")\n",
        "text_file = genai.upload_file(path=text_file_name)\n",
        "print(f\"Completed upload: {text_file.uri}\")"
      ]
    },
    {
      "cell_type": "markdown",
      "metadata": {
        "id": "EPPOECHzsIGJ"
      },
      "source": [
        "## Gerar conteúdo\n",
        "\n",
        "Após o upload do arquivo, você pode fazer solicitações `GenerateContent` que fazem referência ao URI da API do arquivo. Então você pedirá ao modelo que encontre alguns momentos alegres."
      ]
    },
    {
      "cell_type": "code",
      "execution_count": 14,
      "metadata": {
        "id": "9b1d2fe3ea31",
        "outputId": "74d2efc8-e68d-4f5a-c292-e9c974f480c9",
        "colab": {
          "base_uri": "https://localhost:8080/",
          "height": 72
        }
      },
      "outputs": [
        {
          "output_type": "stream",
          "name": "stdout",
          "text": [
            "The most important part of the text is the actual transcript of the Apollo 11 mission. It contains the dialogue between the astronauts and Mission Control, as well as details about the mission's progress. This is the core information of the text, and the introduction is simply an explanation of what the transcript is and how to understand it. \n",
            "\n"
          ]
        }
      ],
      "source": [
        "prompt = \"Qual parte mais importante do texto?\"\n",
        "\n",
        "model = genai.GenerativeModel(model_name=\"models/gemini-1.5-flash\")\n",
        "\n",
        "response = model.generate_content([prompt, text_file],\n",
        "                                  request_options={\"timeout\": 600})\n",
        "print(response.text)"
      ]
    },
    {
      "cell_type": "markdown",
      "metadata": {
        "id": "IrPDYdQSKTg4"
      },
      "source": [
        "## Excluir arquivo\n",
        "\n",
        "Os arquivos são excluídos automaticamente após 2 dias ou você pode excluí-los manualmente usando `files.delete()`."
      ]
    },
    {
      "cell_type": "code",
      "execution_count": null,
      "metadata": {
        "id": "d4eO8ZXoKdZf"
      },
      "outputs": [],
      "source": [
        "genai.delete_file(text_file.name)"
      ]
    },
    {
      "cell_type": "markdown",
      "metadata": {
        "id": "K5oUCqb6IUnH"
      },
      "source": [
        "## Learning more\n",
        "\n",
        "The File API accepts files under 2GB in size and can store up to 20GB of files per project. Learn more about the [File API](https://github.com/google-gemini/cookbook/blob/main/quickstarts/File_API.ipynb) here."
      ]
    },
    {
      "cell_type": "markdown",
      "source": [
        "# **Fazer upload de arquivos**\n",
        "\n",
        "Suba os arquivos no Google Colab... e faça o comando abaixo:"
      ],
      "metadata": {
        "id": "T1VCK2iz6Mrf"
      }
    },
    {
      "cell_type": "code",
      "source": [
        "with open('CSLewis.txt', 'r', encoding='latin-1') as file:  # Try opening with 'latin-1' encoding\n",
        "    text_data = file.read()\n",
        "\n",
        "# Print first 10 lines\n",
        "for line in text_data.splitlines()[:50]:\n",
        "    print(line)"
      ],
      "metadata": {
        "colab": {
          "base_uri": "https://localhost:8080/"
        },
        "id": "NR2wQEP_6Sa7",
        "outputId": "641be24e-a8c9-4e6d-c175-6425d0d2d2df"
      },
      "execution_count": 19,
      "outputs": [
        {
          "output_type": "stream",
          "name": "stdout",
          "text": [
            "Todo meu caminho diante de mim\n",
            "\n",
            "Tradução:\n",
            "\n",
            "Francisco Nunes\n",
            "\n",
            "\n",
            "\n",
            "\n",
            "\n",
            "Título original: All My Road Before Me\n",
            "\n",
            "\n",
            "Copyright © 1991 by C. S. Lewis Pte. Ltd. Foreword copyright © 1981 by Owen Barfield. \n",
            "\n",
            "Edição original por HarperCollins Publishers. Todos os direitos reservados.\n",
            "\n",
            "\n",
            "Os pontos de vista desta obra são de responsabilidade de seus autores e colaboradores diretos, não refletindo necessariamente a posição da Thomas Nelson Brasil, da HarperCollins Christian Publishing ou de sua equipe editorial.\n",
            "\n",
            "\n",
            "\n",
            "Publisher\n",
            "\n",
            "Samuel Coto\n",
            "\n",
            "Editores\n",
            "\n",
            "André Lodos Tangerino e Bruna Gomes\n",
            "\n",
            "Produção editorial\n",
            "\n",
            "Brunna Prado\n",
            "\n",
            "Preparação\n",
            "\n",
            "Clarissa Melo dos Santos\n",
            "\n",
            "Revisão\n",
            "\n",
            "Davi Freitas e Brunna Prado\n",
            "\n",
            "Diagramação\n",
            "\n",
            "Sonia Peticov\n",
            "\n",
            "Capa\n",
            "\n",
            "Rafael Brum\n",
            "\n"
          ]
        }
      ]
    },
    {
      "cell_type": "markdown",
      "source": [
        "### Agora fala sua requisição para o MODELO **GEMINI**..."
      ],
      "metadata": {
        "id": "b07KSVfc98P6"
      }
    },
    {
      "cell_type": "code",
      "source": [
        "model = genai.GenerativeModel('gemini-1.5-flash')\n",
        "\n",
        "response = model.generate_content(['Mostre-me os pontos mais importantes', text_data])\n",
        "print(response.text)"
      ],
      "metadata": {
        "colab": {
          "base_uri": "https://localhost:8080/",
          "height": 558
        },
        "id": "3sViBbQg6Y3n",
        "outputId": "f5c16c43-03ee-4593-919e-58e5b038d562"
      },
      "execution_count": 22,
      "outputs": [
        {
          "output_type": "stream",
          "name": "stdout",
          "text": [
            "##  Todo meu caminho diante de mim: Pontos importantes\n",
            "\n",
            "O diário de C.S. Lewis, Todo meu caminho diante de mim, cobre os anos de 1922 a 1927, revelando o jovem Lewis antes de sua conversão ao cristianismo.  \n",
            "\n",
            "**Pontos-chave:**\n",
            "\n",
            "**1. Relação complexa com a Sra. Moore:** Lewis e a Sra. Moore, mãe de seu amigo Paddy, formam um relacionamento íntimo.  A natureza exata dessa relação não está clara, mas o diário indica que não era apenas uma relação mãe-filho.  A dependência mútua deles é evidente, com Lewis frequentemente pedindo ajuda a ela em relação a tarefas domésticas e questões financeiras.  \n",
            "\n",
            "**2. Pobreza e instabilidade:** A pobreza e a instabilidade financeira permeiam o diário.  Lewis e a Sra. Moore mudam de casa frequentemente e lutam para cobrir as despesas.  A dependência de Lewis em relação ao pai para financiamento é evidente, e ele sente-se constrangido com sua situação.\n",
            "\n",
            "**3. Lutas com a poesia:** O diário registra o desenvolvimento de \"Dymer\", o poema narrativo de Lewis. Ele luta com a inspiração, a escrita e o julgamento de seus trabalhos. As rejeições de seu trabalho o deixam desanimado.  \n",
            "\n",
            "**4. Amizades e conversas:** O diário revela a rede de amizades de Lewis, com conversas detalhadas sobre literatura, filosofia e religião.  Ele tem conversas profundas e memoráveis com seu amigo Owen Barfield e com outros colegas, como Baker e Jenkin.  \n",
            "\n",
            "**5. A busca por um futuro:** Lewis está preocupado com o futuro e a busca por uma carreira acadêmica e literária.  Ele se candidata a várias bolsas e cargos de ensino, mas é constantemente frustrado.  \n",
            "\n",
            "**6. Reflexões sobre a vida:**  O diário contém reflexões pessoais de Lewis sobre a vida, a morte, a fé, a natureza e as relações humanas. \n",
            "\n",
            "**7. Inícios de uma visão de mundo:** O leitor pode perceber como Lewis está moldando suas ideias e crenças.  Sua crítica ao materialismo e sua atração pela metafísica começam a se tornar mais claras.\n",
            "\n",
            "**8. \"Sonhos de Christina\" e a procura por significado:**  O conceito de \"Sonhos de Christina\" emerge, mostrando o desapontamento de Lewis com a fantasia e o romantismo. Ele procura um significado mais profundo para a vida.\n",
            "\n",
            "**A leitura do diário oferece uma visão íntima da vida e dos pensamentos de C.S. Lewis em um período crucial da sua formação.**\n",
            "\n",
            "**Observações adicionais:**\n",
            "\n",
            "* O diário de Lewis pode ser considerado um documento rico e complexo que lança luz sobre a vida e as ideias de um dos maiores escritores do século XX.\n",
            "* É importante lembrar que o diário é um registro pessoal, e não uma obra publicada. \n",
            "* O diário oferece uma visão singular do desenvolvimento de Lewis e de seus pensamentos antes de se tornar um escritor prolífico e um pensador influente.\n",
            "\n"
          ]
        }
      ]
    },
    {
      "cell_type": "code",
      "source": [],
      "metadata": {
        "id": "FwhX0qPz7dK-"
      },
      "execution_count": null,
      "outputs": []
    }
  ],
  "metadata": {
    "colab": {
      "provenance": [],
      "include_colab_link": true
    },
    "kernelspec": {
      "display_name": "Python 3",
      "name": "python3"
    }
  },
  "nbformat": 4,
  "nbformat_minor": 0
}